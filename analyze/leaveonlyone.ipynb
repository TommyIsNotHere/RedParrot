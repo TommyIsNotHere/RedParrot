{
 "cells": [
  {
   "cell_type": "markdown",
   "id": "29a7defa",
   "metadata": {},
   "source": [
    "## 路径"
   ]
  },
  {
   "cell_type": "code",
   "execution_count": null,
   "id": "e3c87dd6",
   "metadata": {},
   "outputs": [],
   "source": [
    "import os\n",
    "import sys\n",
    "current_dir = os.path.dirname(os.path.abspath('.'))\n",
    "sys.path.append(current_dir)\n",
    "os.chdir(current_dir)"
   ]
  },
  {
   "cell_type": "markdown",
   "id": "760b5c30",
   "metadata": {},
   "source": [
    "## 剔除同组只保留一个"
   ]
  },
  {
   "cell_type": "code",
   "execution_count": null,
   "id": "bce7a1e4",
   "metadata": {},
   "outputs": [],
   "source": [
    "import json\n",
    "from pathlib import Path\n",
    "\n",
    "\n",
    "def dedupe_by_cluster_group(input_path, output_path):\n",
    "    data = json.loads(Path(input_path).read_text(encoding='utf-8'))\n",
    "\n",
    "    seen = set()\n",
    "    result = []\n",
    "    for item in data:\n",
    "        key = (item.get('cluster'), item.get('group'))\n",
    "        if key in seen:\n",
    "            continue\n",
    "        seen.add(key)\n",
    "        result.append(item)\n",
    "\n",
    "    Path(output_path).write_text(\n",
    "        json.dumps(result, ensure_ascii=False, indent=2),\n",
    "        encoding='utf-8'\n",
    "    )\n",
    "    print(f'原始条数: {len(data)}, 去重后: {len(result)}')\n"
   ]
  },
  {
   "cell_type": "code",
   "execution_count": null,
   "id": "2142dd4c",
   "metadata": {},
   "outputs": [],
   "source": [
    "input_path = \"./data/20250916/commerce_test_0.95_4.json\"\n",
    "output_path = \"./data/20250916/commerce_test_0.95_4_leaveone.json\"\n",
    "dedupe_by_cluster_group(input_path, output_path)"
   ]
  }
 ],
 "metadata": {
  "kernelspec": {
   "display_name": "base",
   "language": "python",
   "name": "python3"
  },
  "language_info": {
   "codemirror_mode": {
    "name": "ipython",
    "version": 3
   },
   "file_extension": ".py",
   "mimetype": "text/x-python",
   "name": "python",
   "nbconvert_exporter": "python",
   "pygments_lexer": "ipython3",
   "version": "3.13.5"
  }
 },
 "nbformat": 4,
 "nbformat_minor": 5
}
