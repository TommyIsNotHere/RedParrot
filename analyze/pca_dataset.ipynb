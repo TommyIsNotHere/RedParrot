{
 "cells": [
  {
   "cell_type": "code",
   "execution_count": null,
   "id": "cc4848f9",
   "metadata": {},
   "outputs": [],
   "source": [
    "import os\n",
    "import sys\n",
    "current_dir = os.path.dirname(os.path.abspath('.'))\n",
    "sys.path.append(current_dir)\n",
    "os.chdir(current_dir)"
   ]
  },
  {
   "cell_type": "code",
   "execution_count": null,
   "id": "031b84c7",
   "metadata": {},
   "outputs": [],
   "source": [
    "import json\n",
    "datafile = \"./data/20250916/commerce_test_0.95_4.json\"\n",
    "with open(datafile, \"r\", encoding=\"utf-8\") as f:\n",
    "    data = json.load(f)\n",
    "query_list = [item[\"query\"] for item in data]\n",
    "dataset_list = [item[\"dataset_id\"] for item in data]\n",
    "len(query_list), len(dataset_list)"
   ]
  },
  {
   "cell_type": "code",
   "execution_count": null,
   "id": "e34e9bba",
   "metadata": {},
   "outputs": [],
   "source": [
    "# 建立出现顺序稳定的映射 (原ID -> 1..N)\n",
    "unique_dataset_ids = list(dict.fromkeys(dataset_list))\n",
    "dataset_id2idx = {did: i+1 for i, did in enumerate(unique_dataset_ids)}\n",
    "dataset_idx_list = [dataset_id2idx[d] for d in dataset_list]"
   ]
  },
  {
   "cell_type": "code",
   "execution_count": null,
   "id": "517ba345",
   "metadata": {},
   "outputs": [],
   "source": [
    "import torch\n",
    "from entity_agnostic_embedding_model.contrastive_learning import ContrastiveMARLOEmbeddingModel\n",
    "model = ContrastiveMARLOEmbeddingModel(\n",
    "    base_model=\"Qwen/Qwen3-Embedding-0.6B\", device=\"cuda:1\")\n",
    "model.load_state_dict(torch.load(\n",
    "    \"./model/Qwen3-Embedding-0.6B/contrastive_aimicorrect_ex0916_0930_nerfarneg_pw1.0_nw1.0_ep10.pth\"))"
   ]
  },
  {
   "cell_type": "code",
   "execution_count": null,
   "id": "012da5e6",
   "metadata": {},
   "outputs": [],
   "source": [
    "from template_construct.embed_tool import embedding_L2_normalization, get_embeddings_by_model,get_embeddings\n",
    "\n",
    "embeddings1 = embedding_L2_normalization(get_embeddings(query_list))\n",
    "embeddings2 = embedding_L2_normalization(get_embeddings_by_model(query_list, model))"
   ]
  },
  {
   "cell_type": "code",
   "execution_count": null,
   "id": "4a8d9ffa",
   "metadata": {},
   "outputs": [],
   "source": [
    "# 各自独立 PCA 并排可视化（坐标轴不可直接数值对比）\n",
    "import matplotlib.pyplot as plt\n",
    "from sklearn.decomposition import PCA\n",
    "\n",
    "E1 = embeddings1\n",
    "E2 = embeddings2\n",
    "\n",
    "pca1 = PCA(n_components=2, random_state=42)\n",
    "pca2 = PCA(n_components=2, random_state=42)\n",
    "\n",
    "E1_2d = pca1.fit_transform(E1)\n",
    "E2_2d = pca2.fit_transform(E2)\n",
    "\n",
    "fig, axes = plt.subplots(1, 2, figsize=(16, 6), constrained_layout=True)\n",
    "\n",
    "sc1 = axes[0].scatter(E1_2d[:, 0], E1_2d[:, 1],\n",
    "                      c=dataset_idx_list, cmap='tab20', alpha=0.7, s=18)\n",
    "axes[0].set_title(\"Qwen3-Embedding-0.6B\")\n",
    "# axes[0].set_xlabel(\"主成分1\")\n",
    "# axes[0].set_ylabel(\"主成分2\")\n",
    "axes[0].grid(True, alpha=0.3)\n",
    "\n",
    "sc2 = axes[1].scatter(E2_2d[:, 0], E2_2d[:, 1],\n",
    "                      c=dataset_idx_list, cmap='tab20', alpha=0.7, s=18)\n",
    "axes[1].set_title(\"Entity Agnostic Embedding Model\")\n",
    "# axes[1].set_xlabel(\"主成分1\")\n",
    "# axes[1].set_ylabel(\"主成分2\")\n",
    "# axes[1].set_ylabel(\"\")  # 右侧可去掉重复标签\n",
    "axes[1].grid(True, alpha=0.3)\n",
    "\n",
    "cbar = fig.colorbar(sc2, ax=axes.ravel().tolist(), shrink=0.85, pad=0.02)\n",
    "# cbar.set_label(\"数据集（映射后索引）\")\n",
    "cbar.set_ticks(range(1, len(unique_dataset_ids)+1))\n",
    "cbar.set_ticklabels([str(d) for d in unique_dataset_ids])\n",
    "plt.show()"
   ]
  },
  {
   "cell_type": "code",
   "execution_count": null,
   "id": "a3bd76a7",
   "metadata": {},
   "outputs": [],
   "source": [
    "fig.savefig(\"./outputs/pca_2d_compare.pdf\", format=\"pdf\", bbox_inches=\"tight\")"
   ]
  },
  {
   "cell_type": "code",
   "execution_count": null,
   "id": "e0068bd8",
   "metadata": {},
   "outputs": [],
   "source": [
    "# 各自独立 PCA 3D 并排可视化\n",
    "import matplotlib.pyplot as plt\n",
    "from sklearn.decomposition import PCA\n",
    "\n",
    "E1 = embeddings1\n",
    "E2 = embeddings2\n",
    "\n",
    "pca1 = PCA(n_components=3, random_state=42)\n",
    "pca2 = PCA(n_components=3, random_state=42)\n",
    "\n",
    "E1_3d = pca1.fit_transform(E1)\n",
    "E2_3d = pca2.fit_transform(E2)\n",
    "\n",
    "fig = plt.figure(figsize=(16, 6))\n",
    "ax1 = fig.add_subplot(1, 2, 1, projection='3d')\n",
    "ax2 = fig.add_subplot(1, 2, 2, projection='3d')\n",
    "\n",
    "sc1 = ax1.scatter(E1_3d[:, 0], E1_3d[:, 1], E1_3d[:, 2],\n",
    "                  c=dataset_list, cmap='tab20', alpha=0.75, s=18)\n",
    "ax1.set_title(\"Embeddings1 独立PCA 3D\")\n",
    "ax1.set_xlabel(\"主成分1\")\n",
    "ax1.set_ylabel(\"主成分2\")\n",
    "ax1.set_zlabel(\"主成分3\")\n",
    "\n",
    "sc2 = ax2.scatter(E2_3d[:, 0], E2_3d[:, 1], E2_3d[:, 2],\n",
    "                  c=dataset_list, cmap='tab20', alpha=0.75, s=18)\n",
    "ax2.set_title(\"Embeddings2 独立PCA 3D\")\n",
    "ax2.set_xlabel(\"主成分1\")\n",
    "ax2.set_ylabel(\"主成分2\")\n",
    "ax2.set_zlabel(\"主成分3\")\n",
    "\n",
    "# 统一视角（可调节 elev/azim）\n",
    "for ax in (ax1, ax2):\n",
    "    ax.view_init(elev=18, azim=35)\n",
    "\n",
    "cbar = fig.colorbar(sc2, ax=[ax1, ax2], shrink=0.75, pad=0.05)\n",
    "cbar.set_label(\"数据集编号\")\n",
    "\n",
    "plt.tight_layout()\n",
    "plt.show()"
   ]
  }
 ],
 "metadata": {
  "kernelspec": {
   "display_name": "base",
   "language": "python",
   "name": "python3"
  },
  "language_info": {
   "codemirror_mode": {
    "name": "ipython",
    "version": 3
   },
   "file_extension": ".py",
   "mimetype": "text/x-python",
   "name": "python",
   "nbconvert_exporter": "python",
   "pygments_lexer": "ipython3",
   "version": "3.13.5"
  }
 },
 "nbformat": 4,
 "nbformat_minor": 5
}
