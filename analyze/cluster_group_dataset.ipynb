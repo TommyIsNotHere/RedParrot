{
 "cells": [
  {
   "cell_type": "markdown",
   "id": "d459f83e",
   "metadata": {},
   "source": [
    "## 路径保证"
   ]
  },
  {
   "cell_type": "code",
   "execution_count": null,
   "id": "9e83c982",
   "metadata": {},
   "outputs": [],
   "source": [
    "import os\n",
    "import sys\n",
    "current_dir = os.path.dirname(os.path.abspath('.'))\n",
    "sys.path.append(current_dir)\n",
    "os.chdir(current_dir)"
   ]
  },
  {
   "cell_type": "code",
   "execution_count": null,
   "id": "75cae953",
   "metadata": {},
   "outputs": [],
   "source": [
    "test_file = './data/20250916/commerce_test_0.95_4.json'\n",
    "templatefile = './data/20250916/commerce_template_0.95_4.json'"
   ]
  },
  {
   "cell_type": "code",
   "execution_count": null,
   "id": "e3fb7216",
   "metadata": {},
   "outputs": [],
   "source": [
    "import json\n",
    "from collections import defaultdict\n",
    "from pathlib import Path\n",
    "\n",
    "\n",
    "def check_dataset_consistency(data):\n",
    "    # data = json.loads(Path(json_path).read_text(encoding='utf-8'))\n",
    "    groups = defaultdict(set)  # (cluster, group) -> set of dataset_ids\n",
    "    rows = defaultdict(list)\n",
    "\n",
    "    for row in data:\n",
    "        key = (row.get('cluster'), row.get('group'))\n",
    "        groups[key].add(row.get('dataset_id'))\n",
    "        rows[key].append(row)\n",
    "\n",
    "    consistent = {}\n",
    "    inconsistent = {}\n",
    "    for key, ds_set in groups.items():\n",
    "        if len(ds_set) == 1:\n",
    "            consistent[key] = ds_set\n",
    "        else:\n",
    "            inconsistent[key] = ds_set\n",
    "\n",
    "    print(\"一致的 (cluster, group) 组合:\")\n",
    "    for k, v in sorted(consistent.items()):\n",
    "        print(f\"{k}: {sorted(v)}\")\n",
    "\n",
    "    print(\"\\n不一致的 (cluster, group) 组合:\")\n",
    "    for k, v in sorted(inconsistent.items()):\n",
    "        print(f\"{k}: {sorted(v)}\")\n",
    "        # 如果需要具体行，可取消注释：\n",
    "        for r in rows[k]:\n",
    "            print(\"  id=\", r['id'], \"dataset_id=\", r['dataset_id'], \"query=\", r['query'])\n"
   ]
  },
  {
   "cell_type": "code",
   "execution_count": null,
   "id": "71e284f3",
   "metadata": {},
   "outputs": [],
   "source": [
    "files = [templatefile,test_file]\n",
    "data = sum([json.loads(Path(json_path).read_text(encoding='utf-8')) for json_path in files], [])"
   ]
  },
  {
   "cell_type": "code",
   "execution_count": null,
   "id": "875fb6fd",
   "metadata": {},
   "outputs": [],
   "source": [
    "check_dataset_consistency(data)"
   ]
  },
  {
   "cell_type": "code",
   "execution_count": null,
   "id": "fd63ffe1",
   "metadata": {},
   "outputs": [],
   "source": [
    "import pandas as pd\n",
    "\n",
    "df = pd.read_json(test_file)\n",
    "g = df.groupby(['cluster', 'group'])['dataset_id'].nunique()\n",
    "print(\"不一致的组合(>1):\")\n",
    "print(g[g > 1])"
   ]
  }
 ],
 "metadata": {
  "kernelspec": {
   "display_name": "base",
   "language": "python",
   "name": "python3"
  },
  "language_info": {
   "codemirror_mode": {
    "name": "ipython",
    "version": 3
   },
   "file_extension": ".py",
   "mimetype": "text/x-python",
   "name": "python",
   "nbconvert_exporter": "python",
   "pygments_lexer": "ipython3",
   "version": "3.13.5"
  }
 },
 "nbformat": 4,
 "nbformat_minor": 5
}
