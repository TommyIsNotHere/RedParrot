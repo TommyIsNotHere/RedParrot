{
 "cells": [
  {
   "cell_type": "code",
   "execution_count": 1,
   "id": "6687f472",
   "metadata": {},
   "outputs": [],
   "source": [
    "%reload_ext autoreload\n",
    "%autoreload 2\n",
    "import sys\n",
    "import os\n",
    "# 获取当前notebook文件的目录\n",
    "current_dir = os.path.dirname(os.path.abspath('.'))\n",
    "sys.path.append(current_dir)\n",
    "os.chdir(current_dir)"
   ]
  },
  {
   "cell_type": "code",
   "execution_count": 2,
   "id": "d9e1c273",
   "metadata": {},
   "outputs": [],
   "source": [
    "import pandas as pd"
   ]
  },
  {
   "cell_type": "code",
   "execution_count": 3,
   "id": "cda64274",
   "metadata": {},
   "outputs": [],
   "source": [
    "data = pd.read_json(\"./data/20250926/20250926_AIO_correct.json\")"
   ]
  },
  {
   "cell_type": "code",
   "execution_count": 4,
   "id": "1f1aa916",
   "metadata": {},
   "outputs": [
    {
     "data": {
      "text/plain": [
       "5192"
      ]
     },
     "execution_count": 4,
     "metadata": {},
     "output_type": "execute_result"
    }
   ],
   "source": [
    "len(data)"
   ]
  },
  {
   "cell_type": "code",
   "execution_count": null,
   "id": "b939daf9",
   "metadata": {},
   "outputs": [],
   "source": [
    "filter_file_url_0916 = [\n",
    "    \"./data/20250916/commerce_test_0.95_4.json\",\n",
    "    \"./data/20250916/commerce_template_0.95_4.json\",\n",
    "    \"./data/20250916/community_test_0.95_4.json\",\n",
    "    \"./data/20250916/community_template_0.95_4.json\",\n",
    "    \"./data/20250916/trading_test_0.95_4.json\",\n",
    "    \"./data/20250916/trading_template_0.95_4.json\",\n",
    "]"
   ]
  },
  {
   "cell_type": "code",
   "execution_count": 5,
   "id": "14a1fde4",
   "metadata": {},
   "outputs": [],
   "source": [
    "filter_file_url_0922 = [\n",
    "    \"./data/20250922/commerce_test_0.90_4_3.json\",\n",
    "    \"./data/20250922/commerce_template_0.90_4_3.json\",\n",
    "    \"./data/20250922/community_test_0.90_4_3.json\",\n",
    "    \"./data/20250922/community_template_0.90_4_3.json\",\n",
    "    \"./data/20250922/trading_test_0.90_4_3.json\",\n",
    "    \"./data/20250922/trading_template_0.90_4_3.json\",\n",
    "]"
   ]
  },
  {
   "cell_type": "code",
   "execution_count": 4,
   "id": "8c094c05",
   "metadata": {},
   "outputs": [],
   "source": [
    "filter_file_url_0928_95 = [\n",
    "    \"./data/20250928-0.95/commerce_test_0.95_4_2.json\",\n",
    "    \"./data/20250928-0.95/commerce_template_0.95_4_2.json\",\n",
    "    \"./data/20250928-0.95/community_test_0.95_4_2.json\",\n",
    "    \"./data/20250928-0.95/community_template_0.95_4_2.json\",\n",
    "    \"./data/20250928-0.95/trading_test_0.95_4_2.json\",\n",
    "    \"./data/20250928-0.95/trading_template_0.95_4_2.json\",\n",
    "]"
   ]
  },
  {
   "cell_type": "code",
   "execution_count": 5,
   "id": "02d07c7f",
   "metadata": {},
   "outputs": [],
   "source": [
    "filter_file_url_0928_90 = [\n",
    "    \"./data/20250928-0.90/commerce_test_0.90_4_3.json\",\n",
    "    \"./data/20250928-0.90/commerce_template_0.90_4_3.json\",\n",
    "    \"./data/20250928-0.90/community_test_0.90_4_3.json\",\n",
    "    \"./data/20250928-0.90/community_template_0.90_4_3.json\",\n",
    "    \"./data/20250928-0.90/trading_test_0.90_4_3.json\",\n",
    "    \"./data/20250928-0.90/trading_template_0.90_4_3.json\",\n",
    "]"
   ]
  },
  {
   "cell_type": "code",
   "execution_count": 11,
   "id": "a168097c",
   "metadata": {},
   "outputs": [],
   "source": [
    "filter_file_url_0928_85 = [\n",
    "    \"./data/20250928-0.85/commerce_test_0.85_4_3.json\",\n",
    "    \"./data/20250928-0.85/commerce_template_0.85_4_3.json\",\n",
    "    \"./data/20250928-0.85/community_test_0.85_4_3.json\",\n",
    "    \"./data/20250928-0.85/community_template_0.85_4_3.json\",\n",
    "    \"./data/20250928-0.85/trading_test_0.85_4_3.json\",\n",
    "    \"./data/20250928-0.85/trading_template_0.85_4_3.json\",\n",
    "]"
   ]
  },
  {
   "cell_type": "code",
   "execution_count": 12,
   "id": "89811a7c",
   "metadata": {},
   "outputs": [],
   "source": [
    "filter_file_url = filter_file_url_0928_85\n",
    "test_template = []\n",
    "for file_url in filter_file_url:\n",
    "    df = pd.read_json(file_url)\n",
    "    ids = df['id'].tolist()\n",
    "    test_template.extend(ids)"
   ]
  },
  {
   "cell_type": "code",
   "execution_count": 13,
   "id": "d09667c6",
   "metadata": {},
   "outputs": [
    {
     "data": {
      "text/plain": [
       "(5192, 2410)"
      ]
     },
     "execution_count": 13,
     "metadata": {},
     "output_type": "execute_result"
    }
   ],
   "source": [
    "len(data), len(test_template)"
   ]
  },
  {
   "cell_type": "code",
   "execution_count": 14,
   "id": "3809086a",
   "metadata": {},
   "outputs": [
    {
     "data": {
      "text/plain": [
       "2782"
      ]
     },
     "execution_count": 14,
     "metadata": {},
     "output_type": "execute_result"
    }
   ],
   "source": [
    "new_data = data[~data['id'].isin(test_template)]\n",
    "len(new_data)"
   ]
  },
  {
   "cell_type": "code",
   "execution_count": 15,
   "id": "ad1ead2b",
   "metadata": {},
   "outputs": [],
   "source": [
    "new_data.to_json(\n",
    "    \"./data/ignore/20250926_AIO_correct_ex0928_85.json\", force_ascii=False, orient='records', indent=2)"
   ]
  }
 ],
 "metadata": {
  "kernelspec": {
   "display_name": "base",
   "language": "python",
   "name": "python3"
  },
  "language_info": {
   "codemirror_mode": {
    "name": "ipython",
    "version": 3
   },
   "file_extension": ".py",
   "mimetype": "text/x-python",
   "name": "python",
   "nbconvert_exporter": "python",
   "pygments_lexer": "ipython3",
   "version": "3.13.5"
  }
 },
 "nbformat": 4,
 "nbformat_minor": 5
}
