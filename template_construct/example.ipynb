{
 "cells": [
  {
   "cell_type": "markdown",
   "id": "0a5425fc",
   "metadata": {},
   "source": [
    "## 路径确保"
   ]
  },
  {
   "cell_type": "code",
   "execution_count": null,
   "id": "247c28bc",
   "metadata": {},
   "outputs": [],
   "source": [
    "%reload_ext autoreload\n",
    "%autoreload 2\n",
    "import sys\n",
    "import os\n",
    "# 获取当前notebook文件的目录\n",
    "current_dir = os.path.dirname(os.path.abspath('.'))\n",
    "sys.path.append(current_dir)\n",
    "os.chdir(current_dir)"
   ]
  },
  {
   "cell_type": "markdown",
   "id": "67ae03a8",
   "metadata": {},
   "source": [
    "## 数据处理"
   ]
  },
  {
   "cell_type": "code",
   "execution_count": null,
   "id": "9ee307f8",
   "metadata": {},
   "outputs": [],
   "source": [
    "import json\n",
    "\n",
    "fileurl_commerce = './data/20250926/0926_commerce_correct.json'\n",
    "fileurl_trading = './data/20250926/0926_trading_correct.json'\n",
    "fileurl_community = './data/20250926/0926_community_correct.json'\n",
    "data_commerce = json.load(open(fileurl_commerce, 'r', encoding='utf-8'))\n",
    "data_trading = json.load(open(fileurl_trading, 'r', encoding='utf-8'))\n",
    "data_community = json.load(open(fileurl_community, 'r', encoding='utf-8'))\n",
    "f\"去重前,commerce: {len(data_commerce)}, trading: {len(data_trading)}, community: {len(data_community)}\""
   ]
  },
  {
   "cell_type": "code",
   "execution_count": null,
   "id": "5d65115f",
   "metadata": {},
   "outputs": [],
   "source": [
    "from utils import deduplicate_dicts\n",
    "data_commerce = deduplicate_dicts(data_commerce,'query')\n",
    "data_trading = deduplicate_dicts(data_trading,'query')\n",
    "data_community = deduplicate_dicts(data_community,'query')\n",
    "f\"去重后,commerce: {len(data_commerce)}, trading: {len(data_trading)}, community: {len(data_community)}\"\n"
   ]
  },
  {
   "cell_type": "code",
   "execution_count": null,
   "id": "6c1655ae",
   "metadata": {},
   "outputs": [],
   "source": [
    "from template_construct.template_construct import template_construct\n",
    "from template_construct.query_erase import query_erase\n",
    "\n",
    "data = query_erase(data_commerce+data_community+data_trading)\n",
    "# template,test = template_construct(data_commerce+data_community+data_trading)"
   ]
  },
  {
   "cell_type": "code",
   "execution_count": null,
   "id": "052defe5",
   "metadata": {},
   "outputs": [],
   "source": [
    "from utils import _TIMEIT_DATA\n",
    "_TIMEIT_DATA"
   ]
  },
  {
   "cell_type": "code",
   "execution_count": null,
   "id": "ab68c6ba",
   "metadata": {},
   "outputs": [],
   "source": [
    "689.86/len(data)"
   ]
  },
  {
   "cell_type": "code",
   "execution_count": null,
   "id": "ba967d7f",
   "metadata": {},
   "outputs": [],
   "source": [
    "target_file = './data/20250926/20250926_AIO_correct.json'\n",
    "with open(target_file, 'w', encoding='utf-8') as f:\n",
    "    json.dump(data, f, ensure_ascii=False, indent=2)"
   ]
  },
  {
   "cell_type": "code",
   "execution_count": null,
   "id": "a679b51a",
   "metadata": {},
   "outputs": [],
   "source": [
    "data_commerce_erased = [item for item in data if item['project_name'] == \"commerce\"]\n",
    "data_community_erased = [item for item in data if item['project_name'] == \"community\"]\n",
    "data_trading_erased = [item for item in data if item['project_name'] == \"trading\"]\n",
    "len(data_commerce_erased), len(data_community_erased),len(data_trading_erased)"
   ]
  },
  {
   "cell_type": "code",
   "execution_count": null,
   "id": "ef17d637",
   "metadata": {},
   "outputs": [],
   "source": [
    "similarity_threshold = 0.85\n",
    "component_num_threshold = 4\n",
    "template_num = 3"
   ]
  },
  {
   "cell_type": "code",
   "execution_count": null,
   "id": "09ce1595",
   "metadata": {},
   "outputs": [],
   "source": [
    "template, test = template_construct(data_commerce_erased,\n",
    "                                    similarity_threshold=similarity_threshold,\n",
    "                                    component_num_threshold=component_num_threshold,\n",
    "                                    template_idx=list(range(template_num)))\n",
    "print(\"template\",len(template), \"test\", len(test))\n",
    "template_ids = [item['id'] for item in template]\n",
    "ex_template = [item for item in data_commerce_erased if item['id']\n",
    "               not in template_ids]\n",
    "print(\"ex_template\",len(ex_template))\n",
    "target_file_url = \"./data/20250928-0.85/commerce_{}_{:.2f}_{}_{}.json\"\n",
    "with open(target_file_url.format(\"template\", similarity_threshold, component_num_threshold,template_num), 'w', encoding='utf-8') as f:\n",
    "    json.dump(template, f, ensure_ascii=False, indent=2)\n",
    "with open(target_file_url.format(\"test\", similarity_threshold, component_num_threshold, template_num), 'w', encoding='utf-8') as f:\n",
    "    json.dump(test, f, ensure_ascii=False, indent=2)\n",
    "with open(target_file_url.format(\"ex_template\", similarity_threshold, component_num_threshold,template_num), 'w', encoding='utf-8') as f:\n",
    "    json.dump(ex_template, f, ensure_ascii=False, indent=2)"
   ]
  },
  {
   "cell_type": "code",
   "execution_count": null,
   "id": "a7eacd14",
   "metadata": {},
   "outputs": [],
   "source": [
    "template, test = template_construct(data_community_erased,\n",
    "                                    similarity_threshold=similarity_threshold,\n",
    "                                    component_num_threshold=component_num_threshold,\n",
    "                                    template_idx=list(range(template_num)))\n",
    "print(\"template\",len(template), \"test\", len(test))\n",
    "template_ids = [item['id'] for item in template]\n",
    "ex_template = [item for item in data_community_erased if item['id']\n",
    "               not in template_ids]\n",
    "print(\"ex_template\",len(ex_template))\n",
    "target_file_url = \"./data/20250928-0.85/community_{}_{:.2f}_{}_{}.json\"\n",
    "with open(target_file_url.format(\"template\", similarity_threshold, component_num_threshold, template_num), 'w', encoding='utf-8') as f:\n",
    "    json.dump(template, f, ensure_ascii=False, indent=2)\n",
    "with open(target_file_url.format(\"test\", similarity_threshold, component_num_threshold, template_num), 'w', encoding='utf-8') as f:\n",
    "    json.dump(test, f, ensure_ascii=False, indent=2)\n",
    "with open(target_file_url.format(\"ex_template\", similarity_threshold, component_num_threshold, template_num), 'w', encoding='utf-8') as f:\n",
    "    json.dump(ex_template, f, ensure_ascii=False, indent=2)"
   ]
  },
  {
   "cell_type": "code",
   "execution_count": null,
   "id": "0396be0f",
   "metadata": {},
   "outputs": [],
   "source": [
    "template, test = template_construct(data_trading_erased,\n",
    "                                    similarity_threshold=similarity_threshold,\n",
    "                                    component_num_threshold=component_num_threshold,\n",
    "                                    template_idx=list(range(template_num)))\n",
    "print(\"template\", len(template), \"test\", len(test))\n",
    "template_ids = [item['id'] for item in template]\n",
    "ex_template = [item for item in data_trading_erased if item['id']\n",
    "               not in template_ids]\n",
    "print(\"ex_template\", len(ex_template))\n",
    "target_file_url = \"./data/20250928-0.85/trading_{}_{:.2f}_{}_{}.json\"\n",
    "with open(target_file_url.format(\"template\", similarity_threshold, component_num_threshold, template_num), 'w', encoding='utf-8') as f:\n",
    "    json.dump(template, f, ensure_ascii=False, indent=2)\n",
    "with open(target_file_url.format(\"test\", similarity_threshold, component_num_threshold, template_num), 'w', encoding='utf-8') as f:\n",
    "    json.dump(test, f, ensure_ascii=False, indent=2)\n",
    "with open(target_file_url.format(\"ex_template\", similarity_threshold, component_num_threshold, template_num), 'w', encoding='utf-8') as f:\n",
    "    json.dump(ex_template, f, ensure_ascii=False, indent=2)"
   ]
  },
  {
   "cell_type": "markdown",
   "id": "269a9a70",
   "metadata": {},
   "source": [
    "## 其他处理过程"
   ]
  },
  {
   "cell_type": "code",
   "execution_count": null,
   "id": "5d113299",
   "metadata": {},
   "outputs": [],
   "source": [
    "infos = [\n",
    "    ('./data/20250916/commerce_ex_template_0.95_4.json', \"commerce\"),\n",
    "    ('./data/20250916/community_ex_template_0.95_4.json', \"community\"),\n",
    "    ('./data/20250916/trading_ex_template_0.95_4.json', \"trading\"),\n",
    "]"
   ]
  },
  {
   "cell_type": "code",
   "execution_count": null,
   "id": "9afc22f5",
   "metadata": {},
   "outputs": [],
   "source": [
    "import json\n",
    "\n",
    "for info in infos:\n",
    "    with open(info[0], 'r', encoding='utf-8') as f:\n",
    "        data = json.load(f)\n",
    "    print(len(data))\n",
    "    data = [item for item in data if item[\"project_name\"]==info[1]]\n",
    "    with open(info[0], 'w', encoding='utf-8') as f:\n",
    "        json.dump(data, f, ensure_ascii=False, indent=2)"
   ]
  },
  {
   "cell_type": "code",
   "execution_count": null,
   "id": "06f6eaff",
   "metadata": {},
   "outputs": [],
   "source": [
    "infos = {\n",
    "    \"ex_template\":('./data/20250916/commerce_ex_template_0.95_4.json',\n",
    "     './data/20250916/community_ex_template_0.95_4.json',\n",
    "     './data/20250916/trading_ex_template_0.95_4.json'),\n",
    "    \"template\":('./data/20250916/commerce_template_0.95_4.json',\n",
    "     './data/20250916/community_template_0.95_4.json',\n",
    "     './data/20250916/trading_template_0.95_4.json'),\n",
    "    \"test\":('./data/20250916/commerce_test_0.95_4.json',\n",
    "     './data/20250916/community_test_0.95_4.json',\n",
    "     './data/20250916/trading_test_0.95_4.json'),\n",
    "}\n",
    "\n",
    "for k,v in infos.items():\n",
    "    data = []\n",
    "    for file in v:\n",
    "        with open(file, 'r', encoding='utf-8') as f:\n",
    "            data += json.load(f)\n",
    "    print(len(data))\n",
    "    with open(f\"./data/20250916/{k}_AIO_0.95_4.json\", 'w', encoding='utf-8') as f:\n",
    "        json.dump(data, f, ensure_ascii=False, indent=2)"
   ]
  },
  {
   "cell_type": "code",
   "execution_count": null,
   "id": "d81e4983",
   "metadata": {},
   "outputs": [],
   "source": [
    "import json\n",
    "\n",
    "fileurl_commerce = ('../data/20250916/commerce_template_0.95_4.json',\n",
    "                    \"../data/20250916/commerce_ex_template_0.95_4.json\")\n",
    "fileurl_trading = ('../data/20250916/trading_template_0.95_4.json',\n",
    "                   \"../data/20250916/trading_ex_template_0.95_4.json\")\n",
    "fileurl_community = ('../data/20250916/community_template_0.95_4.json',\n",
    "                     \"../data/20250916/community_ex_template_0.95_4.json\")\n",
    "data_commerce = json.load(open(fileurl_commerce[0], 'r', encoding='utf-8'))+json.load(open(fileurl_commerce[1], 'r', encoding='utf-8'))\n",
    "data_trading = json.load(open(fileurl_trading[0], 'r', encoding='utf-8'))+json.load(open(fileurl_trading[1], 'r', encoding='utf-8'))\n",
    "data_community = json.load(open(fileurl_community[0], 'r', encoding='utf-8'))+json.load(open(fileurl_community[1], 'r', encoding='utf-8'))\n",
    "f\"去重前,commerce: {len(data_commerce)}, trading: {len(data_trading)}, community: {len(data_community)}\""
   ]
  },
  {
   "cell_type": "code",
   "execution_count": null,
   "id": "c3a928ee",
   "metadata": {},
   "outputs": [],
   "source": [
    "from utils import deduplicate_dicts\n",
    "data_commerce = deduplicate_dicts(data_commerce, 'query')\n",
    "data_trading = deduplicate_dicts(data_trading, 'query')\n",
    "data_community = deduplicate_dicts(data_community, 'query')\n",
    "f\"去重后,commerce: {len(data_commerce)}, trading: {len(data_trading)}, community: {len(data_community)}\""
   ]
  },
  {
   "cell_type": "code",
   "execution_count": null,
   "id": "14a054da",
   "metadata": {},
   "outputs": [],
   "source": [
    "import random\n",
    "import json\n",
    "def random_select_and_save(data_list, num_items, output_file):\n",
    "    \"\"\"\n",
    "    从列表中随机选择固定数目的项并保存为JSON文件\n",
    "    \n",
    "    Args:\n",
    "        data_list: 源数据列表\n",
    "        num_items: 要选择的项目数量\n",
    "        output_file: 输出文件路径\n",
    "    \"\"\"\n",
    "    # 确保选择的数量不超过列表长度\n",
    "    num_items = min(num_items, len(data_list))\n",
    "\n",
    "    # 随机选择\n",
    "    selected_items = random.sample(data_list, num_items)\n",
    "\n",
    "    # 保存为JSON文件\n",
    "    with open(output_file, 'w', encoding='utf-8') as f:\n",
    "        json.dump(selected_items, f, ensure_ascii=False, indent=2)\n",
    "\n",
    "    print(f\"已从 {len(data_list)} 个项目中随机选择 {len(selected_items)} 个，保存到 {output_file}\")\n",
    "    return selected_items\n",
    "\n",
    "\n",
    "# 使用示例\n",
    "# 假设您想从现有数据中随机选择100个项目\n",
    "random_select_and_save(\n",
    "    data_commerce, 373, '../data/randomtemplate/commerce_373.json')\n",
    "random_select_and_save(\n",
    "    data_community, 61, '../data/randomtemplate/community_61.json')\n",
    "random_select_and_save(\n",
    "    data_trading, 24, '../data/randomtemplate/trading_24.json')"
   ]
  }
 ],
 "metadata": {
  "kernelspec": {
   "display_name": "base",
   "language": "python",
   "name": "python3"
  },
  "language_info": {
   "codemirror_mode": {
    "name": "ipython",
    "version": 3
   },
   "file_extension": ".py",
   "mimetype": "text/x-python",
   "name": "python",
   "nbconvert_exporter": "python",
   "pygments_lexer": "ipython3",
   "version": "3.13.5"
  }
 },
 "nbformat": 4,
 "nbformat_minor": 5
}
