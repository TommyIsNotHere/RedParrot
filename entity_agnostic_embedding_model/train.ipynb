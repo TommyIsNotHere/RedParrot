{
 "cells": [
  {
   "cell_type": "markdown",
   "id": "b68ead13",
   "metadata": {},
   "source": [
    "### 系统路径以及魔法重载"
   ]
  },
  {
   "cell_type": "code",
   "execution_count": null,
   "id": "1007e085",
   "metadata": {},
   "outputs": [],
   "source": [
    "%reload_ext autoreload\n",
    "%autoreload 2\n",
    "import sys\n",
    "import os\n",
    "# 获取当前notebook文件的目录\n",
    "current_dir = os.path.dirname(os.path.abspath('.'))\n",
    "sys.path.append(current_dir)\n",
    "print(current_dir)\n",
    "os.chdir(current_dir)\n",
    "print(os.getcwd())"
   ]
  },
  {
   "cell_type": "markdown",
   "id": "07e4754e",
   "metadata": {},
   "source": [
    "### 模型训练"
   ]
  },
  {
   "cell_type": "code",
   "execution_count": null,
   "id": "f588a751",
   "metadata": {},
   "outputs": [],
   "source": [
    "from marlo_style import train\n",
    "tarin()"
   ]
  }
 ],
 "metadata": {
  "kernelspec": {
   "display_name": "base",
   "language": "python",
   "name": "python3"
  },
  "language_info": {
   "codemirror_mode": {
    "name": "ipython",
    "version": 3
   },
   "file_extension": ".py",
   "mimetype": "text/x-python",
   "name": "python",
   "nbconvert_exporter": "python",
   "pygments_lexer": "ipython3",
   "version": "3.13.5"
  }
 },
 "nbformat": 4,
 "nbformat_minor": 5
}
