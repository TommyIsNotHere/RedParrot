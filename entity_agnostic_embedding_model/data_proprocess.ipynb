{
 "cells": [
  {
   "cell_type": "markdown",
   "id": "82561ba8",
   "metadata": {},
   "source": [
    "### 系统路径以及魔法重载"
   ]
  },
  {
   "cell_type": "code",
   "execution_count": null,
   "id": "96b2546c",
   "metadata": {},
   "outputs": [],
   "source": [
    "%reload_ext autoreload\n",
    "%autoreload 2\n",
    "import sys\n",
    "import os\n",
    "# 获取当前notebook文件的目录\n",
    "current_dir = os.path.dirname(os.path.abspath('.'))\n",
    "sys.path.append(current_dir)\n",
    "os.chdir(current_dir)"
   ]
  },
  {
   "cell_type": "markdown",
   "id": "0b5a9f62",
   "metadata": {},
   "source": [
    "### 数据加载与去重"
   ]
  },
  {
   "cell_type": "code",
   "execution_count": null,
   "id": "073be4ed",
   "metadata": {},
   "outputs": [],
   "source": [
    "all_data_url = './data/ignore/20250926_AIO_correct_ex0928_85.json'\n",
    "import json\n",
    "with open(all_data_url, 'r', encoding='utf-8') as f:\n",
    "    all_data = json.load(f)\n",
    "len(all_data)"
   ]
  },
  {
   "cell_type": "code",
   "execution_count": null,
   "id": "8975b336",
   "metadata": {},
   "outputs": [],
   "source": [
    "# from utils import deduplicate_dicts\n",
    "# data = deduplicate_dicts(all_data,'query')\n",
    "# len(data)\n"
   ]
  },
  {
   "cell_type": "markdown",
   "id": "43bc5132",
   "metadata": {},
   "source": [
    "### 擦除三步骤"
   ]
  },
  {
   "cell_type": "code",
   "execution_count": null,
   "id": "437f0306",
   "metadata": {},
   "outputs": [],
   "source": [
    "from template_construct.query_erase import query_erase\n",
    "data = query_erase(all_data)"
   ]
  },
  {
   "cell_type": "code",
   "execution_count": null,
   "id": "d91e5ddf",
   "metadata": {},
   "outputs": [],
   "source": [
    "data[0]"
   ]
  },
  {
   "cell_type": "markdown",
   "id": "4aa324eb",
   "metadata": {},
   "source": [
    "### 词嵌入并保存"
   ]
  },
  {
   "cell_type": "code",
   "execution_count": null,
   "id": "62a15375",
   "metadata": {},
   "outputs": [],
   "source": [
    "from template_construct.embed_tool import get_embeddings\n",
    "raw_embeddings = get_embeddings([item['query'] for item in data])\n",
    "\n",
    "erased_embeddings = get_embeddings([item['erased'] for item in data])"
   ]
  },
  {
   "cell_type": "code",
   "execution_count": null,
   "id": "a087b36b",
   "metadata": {},
   "outputs": [],
   "source": [
    "for i in range(len(data)):\n",
    "    data[i]['query_embedding'] = raw_embeddings[i]\n",
    "    data[i]['erased_embedding'] = erased_embeddings[i]"
   ]
  },
  {
   "cell_type": "code",
   "execution_count": null,
   "id": "c45d4e17",
   "metadata": {},
   "outputs": [],
   "source": [
    "target_data_file = './data/ignore/20250916_AIO_correct_erased_embedding.json'\n",
    "with open(target_data_file, 'w', encoding='utf-8') as f:\n",
    "    json.dump(data, f, ensure_ascii=False, indent=2)"
   ]
  },
  {
   "cell_type": "code",
   "execution_count": null,
   "id": "567e1339",
   "metadata": {},
   "outputs": [],
   "source": [
    "import pandas as pd\n",
    "data = pd.DataFrame(data)"
   ]
  },
  {
   "cell_type": "code",
   "execution_count": null,
   "id": "d7210c30",
   "metadata": {},
   "outputs": [],
   "source": [
    "if 'rewritten' in data.columns:\n",
    "    data['rewritten'] = data['rewritten'].astype(str)\n",
    "if 'config' in data.columns:\n",
    "    data['config'] = data['config'].astype(str)"
   ]
  },
  {
   "cell_type": "code",
   "execution_count": null,
   "id": "d8f551cf",
   "metadata": {},
   "outputs": [],
   "source": [
    "data.to_parquet(\n",
    "    './data/ignore/20250926_AIO_correct_erased_embedding_ex0928_85.parquet', engine='pyarrow')"
   ]
  },
  {
   "cell_type": "markdown",
   "id": "b44acb1c",
   "metadata": {},
   "source": []
  },
  {
   "cell_type": "markdown",
   "id": "22d7ce60",
   "metadata": {},
   "source": [
    "### 加载数据并处理"
   ]
  },
  {
   "cell_type": "code",
   "execution_count": null,
   "id": "21e705f0",
   "metadata": {},
   "outputs": [],
   "source": [
    "import json\n",
    "import pandas as pd\n",
    "target_data_file = './data/ignore/20250916_AIO_correct_erased_embedding.json'\n",
    "data = pd.read_json(target_data_file)"
   ]
  },
  {
   "cell_type": "code",
   "execution_count": null,
   "id": "82403350",
   "metadata": {},
   "outputs": [],
   "source": [
    "data.to_parquet('./data/ignore/20250916_AIO_correct_erased_embedding.parquet')"
   ]
  },
  {
   "cell_type": "code",
   "execution_count": null,
   "id": "3af0438a",
   "metadata": {},
   "outputs": [],
   "source": [
    "import pandas as pd\n",
    "import pyarrow.parquet as pq\n",
    "\n",
    "# 转换为Parquet\n",
    "def json_to_parquet(json_file, parquet_file):\n",
    "    # 分块读取大JSON文件\n",
    "    chunks = pd.read_json(json_file)\n",
    "    if 'rewritten' in chunks.columns:\n",
    "        chunks['rewritten'] = chunks['rewritten'].astype(str)\n",
    "    if 'config' in chunks.columns:\n",
    "        chunks['config'] = chunks['config'].astype(str)\n",
    "    chunks.to_parquet(f\"{parquet_file}\", engine='pyarrow')\n",
    "# 读取特定列（减少内存占用）\n",
    "\n",
    "def read_parquet_columns(parquet_file, columns):\n",
    "    return pd.read_parquet(parquet_file, columns=columns)"
   ]
  },
  {
   "cell_type": "code",
   "execution_count": null,
   "id": "606f7031",
   "metadata": {},
   "outputs": [],
   "source": [
    "target_json_file = '../data/ignore/20250916_AIO_correct_erased_embedding.json'\n",
    "target_parquet_file = '../data/ignore/20250916_AIO_correct_erased_embedding.parquet'\n",
    "json_to_parquet(target_json_file, target_parquet_file)"
   ]
  },
  {
   "cell_type": "code",
   "execution_count": null,
   "id": "8cacd605",
   "metadata": {},
   "outputs": [],
   "source": [
    "sample_json_file = './data/20250909_AIMI全量_AIO_erased_embedding_sample.json'\n",
    "data = pd.read_json(target_json_file)\n",
    "sample_data = data.sample(n=100, random_state=42)\n",
    "sample_data.to_json(sample_json_file, orient='records')\n"
   ]
  },
  {
   "cell_type": "code",
   "execution_count": null,
   "id": "3f0b8d46",
   "metadata": {},
   "outputs": [],
   "source": [
    "import pandas as pd\n",
    "\n",
    "data = pd.read_parquet(target_parquet_file)\n",
    "data.columns\n"
   ]
  },
  {
   "cell_type": "code",
   "execution_count": null,
   "id": "2280d2cb",
   "metadata": {},
   "outputs": [],
   "source": []
  },
  {
   "cell_type": "markdown",
   "id": "fee4c199",
   "metadata": {},
   "source": [
    "### 使用训练好的模型"
   ]
  },
  {
   "cell_type": "code",
   "execution_count": null,
   "id": "049cae82",
   "metadata": {},
   "outputs": [],
   "source": [
    "import pandas as pd\n",
    "target_parquet_file = './data/ignore/20250909_AIMI全量_AIO_erased_embedding.parquet'\n",
    "target_df = pd.read_parquet(target_parquet_file)\n",
    "erased_embeddings = target_df['erased_embedding'].tolist()\n",
    "len(erased_embeddings[0])"
   ]
  }
 ],
 "metadata": {
  "kernelspec": {
   "display_name": "base",
   "language": "python",
   "name": "python3"
  },
  "language_info": {
   "codemirror_mode": {
    "name": "ipython",
    "version": 3
   },
   "file_extension": ".py",
   "mimetype": "text/x-python",
   "name": "python",
   "nbconvert_exporter": "python",
   "pygments_lexer": "ipython3",
   "version": "3.13.5"
  }
 },
 "nbformat": 4,
 "nbformat_minor": 5
}
