{
 "cells": [
  {
   "cell_type": "markdown",
   "id": "92f0c5eb",
   "metadata": {},
   "source": [
    "## 实验分析\n",
    "### 实验内容\n",
    "这个实验主要内容是,对比直接召回,简单NER,人工擦除,Entity_Agonstic方法的差距\n",
    "- 直接召回, 使用原始的query来召回数据\n",
    "- 简单NER, 使用hanlp对query进行擦除后,使用擦除后的query来召回数据\n",
    "- 人工擦除, 人工对query进行擦除后,使用擦除后的query来召回数据(实际上要素改写+hanlp+re替换)\n",
    "- Entity_Agonstic方法,利用我们的方法来做embedding, 然后使用embedding来召回数据\n",
    "\n",
    "这里我个人觉得甚至可以再加一个使用大模型来擦除query的方法"
   ]
  },
  {
   "cell_type": "markdown",
   "id": "b9b7d642",
   "metadata": {},
   "source": [
    "### 数据以及模型的准备\n",
    "\n",
    "这里针对的数据我个人觉得应该还是question_judgement == Correct的数据\n",
    "对所有数据都需要其原始query,简单ner之后的query_ner, 人工擦除之后的query_erased\n",
    "\n",
    "针对前三个方法,使用对应的query和qwen3-4b-embedding作为embedding模型,随后召回\n",
    "这里的embedding模型,我们可以多换几个,例如qwen3-0.6B, qwen3-8B, 和一些经典的sentence_transformer模型\n",
    "\n",
    "对于我们的方法,直接使用我们训练好的模型对query进行embedding, 然后使用embedding来召回数据"
   ]
  },
  {
   "cell_type": "markdown",
   "id": "53c7e1d7",
   "metadata": {},
   "source": [
    "### 模板库的构建\n",
    "这里构建模板库,是个需要商榷的问题,是使用之前的方式来吗,相当于是使用人工擦除的方法来做模板,这里需要商讨,先暂时假定为模板库已经生成完毕\n",
    "\n"
   ]
  },
  {
   "cell_type": "markdown",
   "id": "b04b37fd",
   "metadata": {},
   "source": [
    "### 模块功能分析\n",
    "*模块一,数据处理*\n",
    "根据不同的方法,调用不同的函数来处理数据,比如人工擦除,大模型擦除,NER擦除等\n",
    "这块是重点，需要加入之前的rewriter功能，或者说可以处理好数据指定一下目标列？√\n",
    "\n",
    "\n",
    "*模块二,模板召回*\n",
    "这里需要两个功能,一个是embedding功能根据不同的方法调用不同的模型,一个是相似度召回(现成)\n",
    "\n",
    "\n",
    "*模块三,配置生成*\n",
    "现成的功能,原始问题+模板prompt+模型调用\n",
    "\n",
    "\n",
    "*模块四,过程pipeline*\n",
    "整个过程的控制\n",
    "pipeline\n",
    "- 设置模板\n",
    "- 设置数据处理方法\n",
    "- 设置embedding模型\n",
    "- \n"
   ]
  },
  {
   "cell_type": "markdown",
   "id": "8117ef7f",
   "metadata": {},
   "source": [
    "## 路径确保"
   ]
  },
  {
   "cell_type": "code",
   "execution_count": null,
   "id": "0d6a6861",
   "metadata": {},
   "outputs": [],
   "source": [
    "%reload_ext autoreload\n",
    "%autoreload 2\n",
    "import sys\n",
    "import os\n",
    "# 获取当前notebook文件的目录\n",
    "current_dir = os.path.dirname(os.path.abspath('.'))\n",
    "sys.path.append(current_dir)\n",
    "os.chdir(current_dir)"
   ]
  },
  {
   "cell_type": "markdown",
   "id": "e1d8bb83",
   "metadata": {},
   "source": [
    "## 实验"
   ]
  },
  {
   "cell_type": "code",
   "execution_count": null,
   "id": "101690cf",
   "metadata": {},
   "outputs": [],
   "source": [
    "from multithread import run_all_experiments,create_custom_experiments\n",
    "experiments = create_custom_experiments(test_path=\"./data/20250916/trading_ex_template_0.95_4.json\",\n",
    "                                        example_path=\"./data/20250916/trading_template_0.95_4.json\")\n",
    "run_all_experiments(experiments)"
   ]
  },
  {
   "cell_type": "code",
   "execution_count": null,
   "id": "c4c65477",
   "metadata": {},
   "outputs": [],
   "source": [
    "from hybrid_rewrite.rewrite import evaluate\n",
    "\n",
    "class RecallPipeline:\n",
    "    def __init__(self):\n",
    "        pass\n",
    "\n",
    "    def run(self,args):\n",
    "        evaluate(\n",
    "            json_path=args.get('dataset', None),\n",
    "            test_path=args.get('test_path', None),\n",
    "            example_path=args.get('example_path', None),\n",
    "            prompt_version=args.get('prompt', None),\n",
    "            split_ratio=args.get('split_ratio', 0.9),\n",
    "            split_keywords=args.get('split_keywords', False),\n",
    "            keywords_for_dimvals=args.get('keywords_for_dimvals', True),\n",
    "            pattern_key=args.get('pattern_key', 'query'),\n",
    "            pattern_top_k=args.get('pattern_top_k', 10),\n",
    "            keyword_key=args.get('keyword_key', 'erased_dimension_value'),\n",
    "            keyword_top_k=args.get('keyword_top_k', 5),\n",
    "            dim_top_k=args.get('dim_top_k', 1),\n",
    "            model=args.get('model', None),\n",
    "            emb_model=args.get('emb_model', None),\n",
    "            emb_model_path=args.get('emb_model_path', None),\n",
    "            temperature=args.get('temperature', 0.1),\n",
    "            merge_retrieval=args.get('merge_retrieval', False)\n",
    "        )"
   ]
  },
  {
   "cell_type": "code",
   "execution_count": null,
   "id": "125dcf18",
   "metadata": {},
   "outputs": [],
   "source": [
    "config = {\n",
    "    \"dataset\": None,\n",
    "    \"test_path\": \"./data/20250916/commerce_test_0.95_4.json\",\n",
    "    \"example_path\": \"./data/20250916/commerce_template_0.95_4.json\",\n",
    "    \"prompt\": \"0_0_8\",\n",
    "    \"split_ratio\": 0.9,\n",
    "    \"split_keywords\": False,\n",
    "    \"keywords_for_dimvals\": True,\n",
    "    \"pattern_key\": \"query\",  # 核心\n",
    "    \"pattern_top_k\": 5,\n",
    "    \"keyword_key\": \"erased_dimension_value\",\n",
    "    \"keyword_top_k\": 20,\n",
    "    \"dim_top_k\": 2,\n",
    "    \"model\": \"qwen2.5-72b-instruct\",            # 核心，改写主模型\n",
    "    \"emb_model\": \"qwen3-embedding-4b\",\n",
    "    \"emb_model_path\": None,\n",
    "    \"temperature\": 0.1,\n",
    "    \"merge_retrieval\": False\n",
    "}"
   ]
  },
  {
   "cell_type": "code",
   "execution_count": null,
   "id": "58955c61",
   "metadata": {},
   "outputs": [],
   "source": [
    "# [\"qwen3-embedding-0.6b\", \"qwen3-embedding-4b\", \"contrastive-bert\", \"teacher-student\"]\n",
    "\n",
    "# pipe = RecallPipeline()\n",
    "\n",
    "# pipe.run(config)"
   ]
  }
 ],
 "metadata": {
  "kernelspec": {
   "display_name": "base",
   "language": "python",
   "name": "python3"
  },
  "language_info": {
   "codemirror_mode": {
    "name": "ipython",
    "version": 3
   },
   "file_extension": ".py",
   "mimetype": "text/x-python",
   "name": "python",
   "nbconvert_exporter": "python",
   "pygments_lexer": "ipython3",
   "version": "3.13.5"
  }
 },
 "nbformat": 4,
 "nbformat_minor": 5
}
